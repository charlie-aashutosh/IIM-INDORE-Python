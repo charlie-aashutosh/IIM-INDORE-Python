{
 "cells": [
  {
   "cell_type": "markdown",
   "metadata": {},
   "source": [
    "Take a number as input from the user and check if the number is even or odd. If the number is even, check if it is greater than 100 or not"
   ]
  },
  {
   "cell_type": "code",
   "execution_count": 1,
   "metadata": {},
   "outputs": [
    {
     "name": "stdout",
     "output_type": "stream",
     "text": [
      "101 is odd!\n"
     ]
    }
   ],
   "source": [
    "num = int(input(\"Enter an integer\\n\"))\n",
    "if num%2 == 0:\n",
    "    if num > 100:\n",
    "        print(f\"{num} is even and greater than 100!\")\n",
    "    else:\n",
    "        print(f\"{num} is even but not greater than 100!\")\n",
    "else:\n",
    "    print(f\"{num} is odd!\")"
   ]
  }
 ],
 "metadata": {
  "kernelspec": {
   "display_name": "Python 3",
   "language": "python",
   "name": "python3"
  },
  "language_info": {
   "codemirror_mode": {
    "name": "ipython",
    "version": 3
   },
   "file_extension": ".py",
   "mimetype": "text/x-python",
   "name": "python",
   "nbconvert_exporter": "python",
   "pygments_lexer": "ipython3",
   "version": "3.11.4"
  }
 },
 "nbformat": 4,
 "nbformat_minor": 2
}
